{
 "cells": [
  {
   "cell_type": "markdown",
   "metadata": {},
   "source": [
    "# Signing with a Private Key"
   ]
  },
  {
   "cell_type": "code",
   "execution_count": 1,
   "metadata": {},
   "outputs": [
    {
     "name": "stdout",
     "output_type": "stream",
     "text": [
      "0xcf6304e0ed625dc13713ad8b330ca764325f013fe7a3057dbe6a2053135abeb4 0xe7361bcc5f0b2f3136218a24beb383d8878cffdfb25c64ef551bec4cded99772 0xd21ba88f3c751abd8155d3d7c2768d82bb743b5c3520a1d377c9dec94ff4409c\n",
      "Point(1953468027843800802925170596235937825164475810165197027149199811512646661492,59120681311850885220056534314674652481360305757776226951480641546728038708932)_115792089237316195423570985008687907853269984665640564039457584007908834671663\n"
     ]
    }
   ],
   "source": [
    "# Signing Example\n",
    "from random import randint\n",
    "\n",
    "from ecc import G, N\n",
    "from helper import double_sha256\n",
    "\n",
    "secret = 1800555555518005555555\n",
    "z = int.from_bytes(double_sha256(b'ECDSA is awesome!'), 'big')\n",
    "k = randint(0, 2**256)\n",
    "r = (k*G).x.num\n",
    "s = (z+r*secret) * pow(k, N-2, N) % N\n",
    "print(hex(z), hex(r), hex(s))\n",
    "print(secret*G)"
   ]
  },
  {
   "cell_type": "markdown",
   "metadata": {},
   "source": [
    "## Test Driven Exercise"
   ]
  },
  {
   "cell_type": "code",
   "execution_count": 5,
   "metadata": {},
   "outputs": [],
   "source": [
    "from ecc import PrivateKey, Signature, G, N\n",
    "from random import randint\n",
    "        \n",
    "class PrivateKey(PrivateKey):\n",
    "    \n",
    "    def sign(self, z):\n",
    "        # we need a random number k: randint(0, 2**256)\n",
    "        k = randint(0, 2**256)\n",
    "        \n",
    "        # r is the x coordinate of the resulting point k*G\n",
    "        r = k*G\n",
    "        \n",
    "        # remember 1/k = pow(k, N-2, N)\n",
    "        # s = (z+r*secret) / k\n",
    "        s = (z +r*secret)* pow(k, N-2, N)\n",
    "        \n",
    "        # return an instance of Signature:\n",
    "        # Signature(r, s)\n",
    "        \n",
    "        return Signature(r, s)"
   ]
  },
  {
   "cell_type": "code",
   "execution_count": null,
   "metadata": {},
   "outputs": [],
   "source": []
  }
 ],
 "metadata": {
  "kernelspec": {
   "display_name": "Python 3",
   "language": "python",
   "name": "python3"
  },
  "language_info": {
   "codemirror_mode": {
    "name": "ipython",
    "version": 3
   },
   "file_extension": ".py",
   "mimetype": "text/x-python",
   "name": "python",
   "nbconvert_exporter": "python",
   "pygments_lexer": "ipython3",
   "version": "3.6.4"
  }
 },
 "nbformat": 4,
 "nbformat_minor": 2
}
